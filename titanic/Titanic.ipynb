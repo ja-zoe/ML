{
 "cells": [
  {
   "cell_type": "code",
   "execution_count": null,
   "metadata": {},
   "outputs": [],
   "source": [
    "import pandas as pd\n",
    "import tensorflow as tf\n",
    "from tensorflow import keras\n",
    "from keras import layers\n",
    "from pandas import DataFrame\n",
    "\n",
    "\n",
    "train_data = pd.read_csv(\"train.csv\")\n",
    "print(train_data.columns)\n"
   ]
  },
  {
   "cell_type": "code",
   "execution_count": null,
   "metadata": {},
   "outputs": [],
   "source": [
    "def clean(data: DataFrame):\n",
    "    data.drop(columns=[\"Ticket\",\"Name\", \"Cabin\", \"SibSp\", \"Parch\", \"Ticket\", \"Cabin\", \"Embarked\"], inplace=True)\n",
    "    ages_mean = data[\"Age\"].mean()\n",
    "    data.fillna(value=ages_mean, inplace=True)\n",
    "\n",
    "clean(train_data)\n",
    "train_data.head()\n"
   ]
  },
  {
   "cell_type": "code",
   "execution_count": null,
   "metadata": {},
   "outputs": [],
   "source": [
    "x_train, y_train = train_data.loc[: , \"Pclass\":], train_data.loc[:, \"Survived\"]\n",
    "print(x_train, y_train)"
   ]
  },
  {
   "cell_type": "markdown",
   "metadata": {},
   "source": []
  }
 ],
 "metadata": {
  "kernelspec": {
   "display_name": ".venv",
   "language": "python",
   "name": "python3"
  },
  "language_info": {
   "codemirror_mode": {
    "name": "ipython",
    "version": 3
   },
   "file_extension": ".py",
   "mimetype": "text/x-python",
   "name": "python",
   "nbconvert_exporter": "python",
   "pygments_lexer": "ipython3",
   "version": "3.12.3"
  }
 },
 "nbformat": 4,
 "nbformat_minor": 2
}
